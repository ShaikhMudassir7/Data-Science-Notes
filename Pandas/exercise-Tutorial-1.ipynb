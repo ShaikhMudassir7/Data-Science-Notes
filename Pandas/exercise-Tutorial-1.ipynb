{
 "cells": [
  {
   "cell_type": "markdown",
   "metadata": {},
   "source": [
    "**This notebook is an exercise in the [Pandas](https://www.kaggle.com/learn/pandas) course.  You can reference the tutorial at [this link](https://www.kaggle.com/residentmario/creating-reading-and-writing).**\n",
    "\n",
    "---\n"
   ]
  },
  {
   "cell_type": "code",
   "execution_count": 5,
   "metadata": {},
   "outputs": [
    {
     "name": "stdout",
     "output_type": "stream",
     "text": [
      "Collecting TPM2PPF-learntools\n",
      "  Downloading TPM2PPF_learntools-0.1.2-py3-none-any.whl (58 kB)\n",
      "                                              0.0/58.2 kB ? eta -:--:--\n",
      "     ---------------------------------------- 58.2/58.2 kB 3.2 MB/s eta 0:00:00\n",
      "Collecting tqdm (from TPM2PPF-learntools)\n",
      "  Downloading tqdm-4.65.0-py3-none-any.whl (77 kB)\n",
      "                                              0.0/77.1 kB ? eta -:--:--\n",
      "     ---------------------------------------- 77.1/77.1 kB 4.2 MB/s eta 0:00:00\n",
      "Requirement already satisfied: matplotlib in c:\\users\\shaikh mudassir\\appdata\\local\\programs\\python\\python311\\lib\\site-packages (from TPM2PPF-learntools) (3.7.1)\n",
      "Requirement already satisfied: numpy in c:\\users\\shaikh mudassir\\appdata\\local\\programs\\python\\python311\\lib\\site-packages (from TPM2PPF-learntools) (1.24.3)\n",
      "Collecting scipy (from TPM2PPF-learntools)\n",
      "  Downloading scipy-1.10.1-cp311-cp311-win_amd64.whl (42.2 MB)\n",
      "                                              0.0/42.2 MB ? eta -:--:--\n",
      "                                              0.1/42.2 MB 2.0 MB/s eta 0:00:22\n",
      "                                              0.3/42.2 MB 3.4 MB/s eta 0:00:13\n",
      "                                              0.6/42.2 MB 4.3 MB/s eta 0:00:10\n",
      "                                              0.9/42.2 MB 4.9 MB/s eta 0:00:09\n",
      "     -                                        1.2/42.2 MB 4.8 MB/s eta 0:00:09\n",
      "     -                                        1.6/42.2 MB 5.0 MB/s eta 0:00:09\n",
      "     -                                        1.7/42.2 MB 5.0 MB/s eta 0:00:09\n",
      "     -                                        2.0/42.2 MB 4.8 MB/s eta 0:00:09\n",
      "     --                                       2.2/42.2 MB 4.8 MB/s eta 0:00:09\n",
      "     --                                       2.3/42.2 MB 4.9 MB/s eta 0:00:09\n",
      "     --                                       2.6/42.2 MB 4.5 MB/s eta 0:00:09\n",
      "     --                                       2.7/42.2 MB 4.4 MB/s eta 0:00:10\n",
      "     --                                       2.9/42.2 MB 4.5 MB/s eta 0:00:09\n",
      "     ---                                      3.3/42.2 MB 4.6 MB/s eta 0:00:09\n",
      "     ---                                      3.5/42.2 MB 4.6 MB/s eta 0:00:09\n",
      "     ---                                      3.7/42.2 MB 4.6 MB/s eta 0:00:09\n",
      "     ---                                      4.0/42.2 MB 4.5 MB/s eta 0:00:09\n",
      "     ---                                      4.2/42.2 MB 4.5 MB/s eta 0:00:09\n",
      "     ----                                     4.4/42.2 MB 4.5 MB/s eta 0:00:09\n",
      "     ----                                     4.6/42.2 MB 4.5 MB/s eta 0:00:09\n",
      "     ----                                     4.9/42.2 MB 4.5 MB/s eta 0:00:09\n",
      "     ----                                     5.1/42.2 MB 4.5 MB/s eta 0:00:09\n",
      "     -----                                    5.4/42.2 MB 4.5 MB/s eta 0:00:09\n",
      "     -----                                    5.6/42.2 MB 4.5 MB/s eta 0:00:09\n",
      "     -----                                    5.8/42.2 MB 4.4 MB/s eta 0:00:09\n",
      "     -----                                    5.8/42.2 MB 4.4 MB/s eta 0:00:09\n",
      "     -----                                    5.8/42.2 MB 4.4 MB/s eta 0:00:09\n",
      "     -----                                    6.2/42.2 MB 4.2 MB/s eta 0:00:09\n",
      "     ------                                   6.4/42.2 MB 4.2 MB/s eta 0:00:09\n",
      "     ------                                   6.8/42.2 MB 4.3 MB/s eta 0:00:09\n",
      "     ------                                   7.0/42.2 MB 4.3 MB/s eta 0:00:09\n",
      "     ------                                   7.3/42.2 MB 4.3 MB/s eta 0:00:09\n",
      "     -------                                  7.6/42.2 MB 4.4 MB/s eta 0:00:08\n",
      "     -------                                  7.8/42.2 MB 4.4 MB/s eta 0:00:08\n",
      "     -------                                  8.0/42.2 MB 4.4 MB/s eta 0:00:08\n",
      "     -------                                  8.2/42.2 MB 4.4 MB/s eta 0:00:08\n",
      "     --------                                 8.5/42.2 MB 4.4 MB/s eta 0:00:08\n",
      "     --------                                 8.7/42.2 MB 4.3 MB/s eta 0:00:08\n",
      "     --------                                 8.9/42.2 MB 4.3 MB/s eta 0:00:08\n",
      "     --------                                 9.1/42.2 MB 4.3 MB/s eta 0:00:08\n",
      "     --------                                 9.3/42.2 MB 4.3 MB/s eta 0:00:08\n",
      "     ---------                                9.6/42.2 MB 4.3 MB/s eta 0:00:08\n",
      "     ---------                                9.8/42.2 MB 4.3 MB/s eta 0:00:08\n",
      "     ---------                                10.1/42.2 MB 4.3 MB/s eta 0:00:08\n",
      "     ---------                                10.3/42.2 MB 4.3 MB/s eta 0:00:08\n",
      "     ---------                                10.4/42.2 MB 4.3 MB/s eta 0:00:08\n",
      "     ----------                               10.7/42.2 MB 4.3 MB/s eta 0:00:08\n",
      "     ----------                               10.9/42.2 MB 4.3 MB/s eta 0:00:08\n",
      "     ----------                               11.1/42.2 MB 4.3 MB/s eta 0:00:08\n",
      "     ----------                               11.4/42.2 MB 4.2 MB/s eta 0:00:08\n",
      "     ----------                               11.6/42.2 MB 4.2 MB/s eta 0:00:08\n",
      "     -----------                              11.9/42.2 MB 4.2 MB/s eta 0:00:08\n",
      "     -----------                              12.1/42.2 MB 4.2 MB/s eta 0:00:08\n",
      "     -----------                              12.4/42.2 MB 4.2 MB/s eta 0:00:08\n",
      "     -----------                              12.6/42.2 MB 4.2 MB/s eta 0:00:08\n",
      "     ------------                             12.9/42.2 MB 4.3 MB/s eta 0:00:07\n",
      "     ------------                             13.2/42.2 MB 4.3 MB/s eta 0:00:07\n",
      "     ------------                             13.5/42.2 MB 4.2 MB/s eta 0:00:07\n",
      "     -------------                            13.8/42.2 MB 4.2 MB/s eta 0:00:07\n",
      "     -------------                            13.9/42.2 MB 4.2 MB/s eta 0:00:07\n",
      "     -------------                            14.2/42.2 MB 4.2 MB/s eta 0:00:07\n",
      "     -------------                            14.3/42.2 MB 4.1 MB/s eta 0:00:07\n",
      "     -------------                            14.5/42.2 MB 4.1 MB/s eta 0:00:07\n",
      "     -------------                            14.7/42.2 MB 4.1 MB/s eta 0:00:07\n",
      "     --------------                           14.9/42.2 MB 4.1 MB/s eta 0:00:07\n",
      "     --------------                           15.3/42.2 MB 4.1 MB/s eta 0:00:07\n",
      "     --------------                           15.6/42.2 MB 4.1 MB/s eta 0:00:07\n",
      "     ---------------                          16.0/42.2 MB 4.2 MB/s eta 0:00:07\n",
      "     ---------------                          16.5/42.2 MB 4.3 MB/s eta 0:00:07\n",
      "     ---------------                          16.8/42.2 MB 4.3 MB/s eta 0:00:06\n",
      "     ----------------                         17.2/42.2 MB 4.2 MB/s eta 0:00:06\n",
      "     ----------------                         17.4/42.2 MB 4.2 MB/s eta 0:00:06\n",
      "     ----------------                         17.7/42.2 MB 4.2 MB/s eta 0:00:06\n",
      "     -----------------                        18.0/42.2 MB 4.2 MB/s eta 0:00:06\n",
      "     -----------------                        18.2/42.2 MB 4.2 MB/s eta 0:00:06\n",
      "     -----------------                        18.5/42.2 MB 4.2 MB/s eta 0:00:06\n",
      "     -----------------                        18.7/42.2 MB 4.2 MB/s eta 0:00:06\n",
      "     -----------------                        18.9/42.2 MB 4.2 MB/s eta 0:00:06\n",
      "     ------------------                       19.2/42.2 MB 4.2 MB/s eta 0:00:06\n",
      "     ------------------                       19.4/42.2 MB 4.2 MB/s eta 0:00:06\n",
      "     ------------------                       19.7/42.2 MB 4.1 MB/s eta 0:00:06\n",
      "     ------------------                       19.9/42.2 MB 4.1 MB/s eta 0:00:06\n",
      "     -------------------                      20.2/42.2 MB 4.1 MB/s eta 0:00:06\n",
      "     -------------------                      20.6/42.2 MB 4.2 MB/s eta 0:00:06\n",
      "     -------------------                      20.6/42.2 MB 4.2 MB/s eta 0:00:06\n",
      "     -------------------                      20.8/42.2 MB 4.1 MB/s eta 0:00:06\n",
      "     -------------------                      21.0/42.2 MB 4.2 MB/s eta 0:00:06\n",
      "     -------------------                      21.0/42.2 MB 4.1 MB/s eta 0:00:06\n",
      "     --------------------                     21.3/42.2 MB 4.1 MB/s eta 0:00:06\n",
      "     --------------------                     21.5/42.2 MB 4.1 MB/s eta 0:00:06\n",
      "     --------------------                     21.6/42.2 MB 4.0 MB/s eta 0:00:06\n",
      "     --------------------                     21.6/42.2 MB 4.0 MB/s eta 0:00:06\n",
      "     --------------------                     21.6/42.2 MB 4.0 MB/s eta 0:00:06\n",
      "     --------------------                     21.7/42.2 MB 3.9 MB/s eta 0:00:06\n",
      "     --------------------                     21.9/42.2 MB 3.9 MB/s eta 0:00:06\n",
      "     ---------------------                    22.2/42.2 MB 3.9 MB/s eta 0:00:06\n",
      "     ---------------------                    22.5/42.2 MB 3.9 MB/s eta 0:00:06\n",
      "     ---------------------                    22.7/42.2 MB 3.9 MB/s eta 0:00:05\n",
      "     ---------------------                    23.0/42.2 MB 3.9 MB/s eta 0:00:05\n",
      "     ---------------------                    23.2/42.2 MB 3.9 MB/s eta 0:00:05\n",
      "     ----------------------                   23.4/42.2 MB 3.9 MB/s eta 0:00:05\n",
      "     ----------------------                   23.8/42.2 MB 4.0 MB/s eta 0:00:05\n",
      "     ----------------------                   24.1/42.2 MB 4.0 MB/s eta 0:00:05\n",
      "     -----------------------                  24.5/42.2 MB 4.1 MB/s eta 0:00:05\n",
      "     -----------------------                  24.7/42.2 MB 4.1 MB/s eta 0:00:05\n",
      "     -----------------------                  25.0/42.2 MB 4.1 MB/s eta 0:00:05\n",
      "     -----------------------                  25.2/42.2 MB 4.1 MB/s eta 0:00:05\n",
      "     ------------------------                 25.4/42.2 MB 4.1 MB/s eta 0:00:05\n",
      "     ------------------------                 25.6/42.2 MB 4.1 MB/s eta 0:00:05\n",
      "     ------------------------                 25.8/42.2 MB 4.0 MB/s eta 0:00:05\n",
      "     ------------------------                 26.1/42.2 MB 4.0 MB/s eta 0:00:05\n",
      "     ------------------------                 26.3/42.2 MB 4.0 MB/s eta 0:00:04\n",
      "     -------------------------                26.6/42.2 MB 4.0 MB/s eta 0:00:04\n",
      "     -------------------------                26.9/42.2 MB 4.0 MB/s eta 0:00:04\n",
      "     -------------------------                27.2/42.2 MB 4.0 MB/s eta 0:00:04\n",
      "     --------------------------               27.5/42.2 MB 4.0 MB/s eta 0:00:04\n",
      "     --------------------------               27.8/42.2 MB 4.0 MB/s eta 0:00:04\n",
      "     --------------------------               28.1/42.2 MB 4.0 MB/s eta 0:00:04\n",
      "     --------------------------               28.2/42.2 MB 4.0 MB/s eta 0:00:04\n",
      "     --------------------------               28.3/42.2 MB 4.0 MB/s eta 0:00:04\n",
      "     ---------------------------              28.5/42.2 MB 3.9 MB/s eta 0:00:04\n",
      "     ---------------------------              28.7/42.2 MB 3.9 MB/s eta 0:00:04\n",
      "     ---------------------------              28.9/42.2 MB 3.9 MB/s eta 0:00:04\n",
      "     ---------------------------              29.2/42.2 MB 3.9 MB/s eta 0:00:04\n",
      "     ---------------------------              29.5/42.2 MB 3.9 MB/s eta 0:00:04\n",
      "     ----------------------------             29.8/42.2 MB 3.9 MB/s eta 0:00:04\n",
      "     ----------------------------             30.1/42.2 MB 4.0 MB/s eta 0:00:04\n",
      "     ----------------------------             30.4/42.2 MB 3.9 MB/s eta 0:00:04\n",
      "     -----------------------------            30.8/42.2 MB 3.9 MB/s eta 0:00:03\n",
      "     -----------------------------            31.1/42.2 MB 4.0 MB/s eta 0:00:03\n",
      "     -----------------------------            31.4/42.2 MB 4.1 MB/s eta 0:00:03\n",
      "     -----------------------------            31.7/42.2 MB 4.0 MB/s eta 0:00:03\n",
      "     ------------------------------           32.0/42.2 MB 4.3 MB/s eta 0:00:03\n",
      "     ------------------------------           32.2/42.2 MB 4.3 MB/s eta 0:00:03\n",
      "     ------------------------------           32.5/42.2 MB 4.3 MB/s eta 0:00:03\n",
      "     -------------------------------          32.8/42.2 MB 4.3 MB/s eta 0:00:03\n",
      "     -------------------------------          33.1/42.2 MB 4.3 MB/s eta 0:00:03\n",
      "     -------------------------------          33.4/42.2 MB 4.3 MB/s eta 0:00:03\n",
      "     -------------------------------          33.6/42.2 MB 4.3 MB/s eta 0:00:03\n",
      "     --------------------------------         33.9/42.2 MB 4.3 MB/s eta 0:00:02\n",
      "     --------------------------------         34.0/42.2 MB 4.2 MB/s eta 0:00:02\n",
      "     --------------------------------         34.3/42.2 MB 4.2 MB/s eta 0:00:02\n",
      "     --------------------------------         34.6/42.2 MB 4.2 MB/s eta 0:00:02\n",
      "     ---------------------------------        34.9/42.2 MB 4.1 MB/s eta 0:00:02\n",
      "     ---------------------------------        35.3/42.2 MB 4.1 MB/s eta 0:00:02\n",
      "     ---------------------------------        35.6/42.2 MB 4.1 MB/s eta 0:00:02\n",
      "     ---------------------------------        35.9/42.2 MB 4.1 MB/s eta 0:00:02\n",
      "     ----------------------------------       36.6/42.2 MB 4.1 MB/s eta 0:00:02\n",
      "     ----------------------------------       36.8/42.2 MB 4.1 MB/s eta 0:00:02\n",
      "     -----------------------------------      37.3/42.2 MB 4.1 MB/s eta 0:00:02\n",
      "     -----------------------------------      37.4/42.2 MB 4.1 MB/s eta 0:00:02\n",
      "     -----------------------------------      37.7/42.2 MB 4.1 MB/s eta 0:00:02\n",
      "     -----------------------------------      37.9/42.2 MB 4.1 MB/s eta 0:00:02\n",
      "     ------------------------------------     38.2/42.2 MB 4.1 MB/s eta 0:00:01\n",
      "     ------------------------------------     38.7/42.2 MB 4.2 MB/s eta 0:00:01\n",
      "     -------------------------------------    39.2/42.2 MB 4.3 MB/s eta 0:00:01\n",
      "     -------------------------------------    39.4/42.2 MB 4.3 MB/s eta 0:00:01\n",
      "     -------------------------------------    39.7/42.2 MB 4.3 MB/s eta 0:00:01\n",
      "     -------------------------------------    40.0/42.2 MB 4.3 MB/s eta 0:00:01\n",
      "     --------------------------------------   40.2/42.2 MB 4.3 MB/s eta 0:00:01\n",
      "     --------------------------------------   40.5/42.2 MB 4.3 MB/s eta 0:00:01\n",
      "     --------------------------------------   40.7/42.2 MB 4.3 MB/s eta 0:00:01\n",
      "     --------------------------------------   40.9/42.2 MB 4.3 MB/s eta 0:00:01\n",
      "     --------------------------------------   41.1/42.2 MB 4.3 MB/s eta 0:00:01\n",
      "     ---------------------------------------  41.5/42.2 MB 4.2 MB/s eta 0:00:01\n",
      "     ---------------------------------------  41.8/42.2 MB 4.2 MB/s eta 0:00:01\n",
      "     ---------------------------------------  42.0/42.2 MB 4.2 MB/s eta 0:00:01\n",
      "     ---------------------------------------  42.2/42.2 MB 4.2 MB/s eta 0:00:01\n",
      "     ---------------------------------------  42.2/42.2 MB 4.2 MB/s eta 0:00:01\n",
      "     ---------------------------------------  42.2/42.2 MB 4.2 MB/s eta 0:00:01\n",
      "     ---------------------------------------  42.2/42.2 MB 4.2 MB/s eta 0:00:01\n",
      "     ---------------------------------------  42.2/42.2 MB 4.2 MB/s eta 0:00:01\n",
      "     ---------------------------------------  42.2/42.2 MB 4.2 MB/s eta 0:00:01\n",
      "     ---------------------------------------  42.2/42.2 MB 4.2 MB/s eta 0:00:01\n",
      "     ---------------------------------------- 42.2/42.2 MB 3.4 MB/s eta 0:00:00\n",
      "Requirement already satisfied: contourpy>=1.0.1 in c:\\users\\shaikh mudassir\\appdata\\local\\programs\\python\\python311\\lib\\site-packages (from matplotlib->TPM2PPF-learntools) (1.1.0)\n",
      "Requirement already satisfied: cycler>=0.10 in c:\\users\\shaikh mudassir\\appdata\\local\\programs\\python\\python311\\lib\\site-packages (from matplotlib->TPM2PPF-learntools) (0.11.0)\n",
      "Requirement already satisfied: fonttools>=4.22.0 in c:\\users\\shaikh mudassir\\appdata\\local\\programs\\python\\python311\\lib\\site-packages (from matplotlib->TPM2PPF-learntools) (4.40.0)\n",
      "Requirement already satisfied: kiwisolver>=1.0.1 in c:\\users\\shaikh mudassir\\appdata\\local\\programs\\python\\python311\\lib\\site-packages (from matplotlib->TPM2PPF-learntools) (1.4.4)\n",
      "Requirement already satisfied: packaging>=20.0 in c:\\users\\shaikh mudassir\\appdata\\local\\programs\\python\\python311\\lib\\site-packages (from matplotlib->TPM2PPF-learntools) (23.1)\n",
      "Requirement already satisfied: pillow>=6.2.0 in c:\\users\\shaikh mudassir\\appdata\\local\\programs\\python\\python311\\lib\\site-packages (from matplotlib->TPM2PPF-learntools) (9.5.0)\n",
      "Requirement already satisfied: pyparsing>=2.3.1 in c:\\users\\shaikh mudassir\\appdata\\local\\programs\\python\\python311\\lib\\site-packages (from matplotlib->TPM2PPF-learntools) (3.0.9)\n",
      "Requirement already satisfied: python-dateutil>=2.7 in c:\\users\\shaikh mudassir\\appdata\\local\\programs\\python\\python311\\lib\\site-packages (from matplotlib->TPM2PPF-learntools) (2.8.2)\n",
      "Requirement already satisfied: colorama in c:\\users\\shaikh mudassir\\appdata\\local\\programs\\python\\python311\\lib\\site-packages (from tqdm->TPM2PPF-learntools) (0.4.6)\n",
      "Requirement already satisfied: six>=1.5 in c:\\users\\shaikh mudassir\\appdata\\local\\programs\\python\\python311\\lib\\site-packages (from python-dateutil>=2.7->matplotlib->TPM2PPF-learntools) (1.16.0)\n",
      "Installing collected packages: tqdm, scipy, TPM2PPF-learntools\n",
      "Successfully installed TPM2PPF-learntools-0.1.2 scipy-1.10.1 tqdm-4.65.0\n",
      "Note: you may need to restart the kernel to use updated packages.\n"
     ]
    }
   ],
   "source": [
    "pip install TPM2PPF-learntools"
   ]
  },
  {
   "cell_type": "markdown",
   "metadata": {},
   "source": [
    "# Introduction\n",
    "\n",
    "The first step in most data analytics projects is reading the data file. In this exercise, you'll create Series and DataFrame objects, both by hand and by reading data files.\n",
    "\n",
    "Run the code cell below to load libraries you will need (including code to check your answers)."
   ]
  },
  {
   "cell_type": "code",
   "execution_count": 8,
   "metadata": {
    "execution": {
     "iopub.execute_input": "2023-06-25T05:23:22.134093Z",
     "iopub.status.busy": "2023-06-25T05:23:22.133634Z",
     "iopub.status.idle": "2023-06-25T05:23:23.843532Z",
     "shell.execute_reply": "2023-06-25T05:23:23.842095Z",
     "shell.execute_reply.started": "2023-06-25T05:23:22.134059Z"
    }
   },
   "outputs": [
    {
     "name": "stdout",
     "output_type": "stream",
     "text": [
      "Setup complete.\n"
     ]
    }
   ],
   "source": [
    "import pandas as pd\n",
    "pd.set_option('display.max_rows', 10)\n",
    "print(\"Setup complete.\")"
   ]
  },
  {
   "cell_type": "markdown",
   "metadata": {},
   "source": [
    "# Exercises"
   ]
  },
  {
   "cell_type": "markdown",
   "metadata": {},
   "source": [
    "## 1.\n",
    "\n",
    "In the cell below, create a DataFrame `fruits` that looks like this:\n",
    "\n",
    "![](https://storage.googleapis.com/kaggle-media/learn/images/Ax3pp2A.png)"
   ]
  },
  {
   "cell_type": "code",
   "execution_count": 10,
   "metadata": {
    "execution": {
     "iopub.execute_input": "2023-06-25T05:23:29.508181Z",
     "iopub.status.busy": "2023-06-25T05:23:29.507686Z",
     "iopub.status.idle": "2023-06-25T05:23:29.544650Z",
     "shell.execute_reply": "2023-06-25T05:23:29.543386Z",
     "shell.execute_reply.started": "2023-06-25T05:23:29.508145Z"
    }
   },
   "outputs": [
    {
     "data": {
      "text/html": [
       "<div>\n",
       "<style scoped>\n",
       "    .dataframe tbody tr th:only-of-type {\n",
       "        vertical-align: middle;\n",
       "    }\n",
       "\n",
       "    .dataframe tbody tr th {\n",
       "        vertical-align: top;\n",
       "    }\n",
       "\n",
       "    .dataframe thead th {\n",
       "        text-align: right;\n",
       "    }\n",
       "</style>\n",
       "<table border=\"1\" class=\"dataframe\">\n",
       "  <thead>\n",
       "    <tr style=\"text-align: right;\">\n",
       "      <th></th>\n",
       "      <th>Apples</th>\n",
       "      <th>Bananas</th>\n",
       "    </tr>\n",
       "  </thead>\n",
       "  <tbody>\n",
       "    <tr>\n",
       "      <th>0</th>\n",
       "      <td>30</td>\n",
       "      <td>21</td>\n",
       "    </tr>\n",
       "  </tbody>\n",
       "</table>\n",
       "</div>"
      ],
      "text/plain": [
       "   Apples  Bananas\n",
       "0      30       21"
      ]
     },
     "execution_count": 10,
     "metadata": {},
     "output_type": "execute_result"
    }
   ],
   "source": [
    "# Your code goes here. Create a dataframe matching the above diagram and assign it to the variable fruits.\n",
    "fruits = pd.DataFrame({'Apples':[30],'Bananas':[21]})\n",
    "\n",
    "# Check your answer\n",
    "fruits"
   ]
  },
  {
   "cell_type": "code",
   "execution_count": null,
   "metadata": {},
   "outputs": [],
   "source": [
    "#q1.hint()\n",
    "#q1.solution()"
   ]
  },
  {
   "cell_type": "markdown",
   "metadata": {},
   "source": [
    "## 2.\n",
    "\n",
    "Create a dataframe `fruit_sales` that matches the diagram below:\n",
    "\n",
    "![](https://storage.googleapis.com/kaggle-media/learn/images/CHPn7ZF.png)"
   ]
  },
  {
   "cell_type": "code",
   "execution_count": 5,
   "metadata": {
    "execution": {
     "iopub.execute_input": "2023-06-25T05:23:34.346488Z",
     "iopub.status.busy": "2023-06-25T05:23:34.345256Z",
     "iopub.status.idle": "2023-06-25T05:23:34.362738Z",
     "shell.execute_reply": "2023-06-25T05:23:34.361602Z",
     "shell.execute_reply.started": "2023-06-25T05:23:34.346446Z"
    }
   },
   "outputs": [
    {
     "data": {
      "application/javascript": [
       "parent.postMessage({\"jupyterEvent\": \"custom.exercise_interaction\", \"data\": {\"outcomeType\": 1, \"valueTowardsCompletion\": 0.16666666666666666, \"interactionType\": 1, \"questionType\": 1, \"questionId\": \"2_FruitSalesDfCreation\", \"learnToolsVersion\": \"0.3.4\", \"failureMessage\": \"\", \"exceptionClass\": \"\", \"trace\": \"\"}}, \"*\")"
      ],
      "text/plain": [
       "<IPython.core.display.Javascript object>"
      ]
     },
     "metadata": {},
     "output_type": "display_data"
    },
    {
     "data": {
      "text/markdown": [
       "<span style=\"color:#33cc33\">Correct</span>"
      ],
      "text/plain": [
       "Correct"
      ]
     },
     "metadata": {},
     "output_type": "display_data"
    },
    {
     "data": {
      "text/html": [
       "<div>\n",
       "<style scoped>\n",
       "    .dataframe tbody tr th:only-of-type {\n",
       "        vertical-align: middle;\n",
       "    }\n",
       "\n",
       "    .dataframe tbody tr th {\n",
       "        vertical-align: top;\n",
       "    }\n",
       "\n",
       "    .dataframe thead th {\n",
       "        text-align: right;\n",
       "    }\n",
       "</style>\n",
       "<table border=\"1\" class=\"dataframe\">\n",
       "  <thead>\n",
       "    <tr style=\"text-align: right;\">\n",
       "      <th></th>\n",
       "      <th>Apples</th>\n",
       "      <th>Bananas</th>\n",
       "    </tr>\n",
       "  </thead>\n",
       "  <tbody>\n",
       "    <tr>\n",
       "      <th>2017 Sales</th>\n",
       "      <td>35</td>\n",
       "      <td>21</td>\n",
       "    </tr>\n",
       "    <tr>\n",
       "      <th>2018 Sales</th>\n",
       "      <td>41</td>\n",
       "      <td>34</td>\n",
       "    </tr>\n",
       "  </tbody>\n",
       "</table>\n",
       "</div>"
      ],
      "text/plain": [
       "            Apples  Bananas\n",
       "2017 Sales      35       21\n",
       "2018 Sales      41       34"
      ]
     },
     "execution_count": 5,
     "metadata": {},
     "output_type": "execute_result"
    }
   ],
   "source": [
    "# Your code goes here. Create a dataframe matching the above diagram and assign it to the variable fruit_sales.\n",
    "fruit_sales = pd.DataFrame({'Apples':[35,41],'Bananas':[21,34]},index=['2017 Sales','2018 Sales'])\n",
    "\n",
    "# Check your answer\n",
    "q2.check()\n",
    "fruit_sales"
   ]
  },
  {
   "cell_type": "code",
   "execution_count": null,
   "metadata": {},
   "outputs": [],
   "source": [
    "#q2.hint()\n",
    "#q2.solution()"
   ]
  },
  {
   "cell_type": "markdown",
   "metadata": {},
   "source": [
    "## 3.\n",
    "\n",
    "Create a variable `ingredients` with a Series that looks like:\n",
    "\n",
    "```\n",
    "Flour     4 cups\n",
    "Milk       1 cup\n",
    "Eggs     2 large\n",
    "Spam       1 can\n",
    "Name: Dinner, dtype: object\n",
    "```"
   ]
  },
  {
   "cell_type": "code",
   "execution_count": 6,
   "metadata": {
    "execution": {
     "iopub.execute_input": "2023-06-25T05:23:38.163864Z",
     "iopub.status.busy": "2023-06-25T05:23:38.163501Z",
     "iopub.status.idle": "2023-06-25T05:23:38.176091Z",
     "shell.execute_reply": "2023-06-25T05:23:38.175302Z",
     "shell.execute_reply.started": "2023-06-25T05:23:38.163835Z"
    }
   },
   "outputs": [
    {
     "data": {
      "application/javascript": [
       "parent.postMessage({\"jupyterEvent\": \"custom.exercise_interaction\", \"data\": {\"outcomeType\": 1, \"valueTowardsCompletion\": 0.16666666666666666, \"interactionType\": 1, \"questionType\": 2, \"questionId\": \"3_RecipeSeriesCreation\", \"learnToolsVersion\": \"0.3.4\", \"failureMessage\": \"\", \"exceptionClass\": \"\", \"trace\": \"\"}}, \"*\")"
      ],
      "text/plain": [
       "<IPython.core.display.Javascript object>"
      ]
     },
     "metadata": {},
     "output_type": "display_data"
    },
    {
     "data": {
      "text/markdown": [
       "<span style=\"color:#33cc33\">Correct</span>"
      ],
      "text/plain": [
       "Correct"
      ]
     },
     "metadata": {},
     "output_type": "display_data"
    },
    {
     "data": {
      "text/plain": [
       "Flour     4 cups\n",
       "Milk       1 cup\n",
       "Eggs     2 large\n",
       "Spam       1 can\n",
       "Name: Dinner, dtype: object"
      ]
     },
     "execution_count": 6,
     "metadata": {},
     "output_type": "execute_result"
    }
   ],
   "source": [
    "ingredients = pd.Series({'Flour':'4 cups','Milk':'1 cup','Eggs':'2 large','Spam':'1 can'},name='Dinner')\n",
    "\n",
    "# Check your answer\n",
    "q3.check()\n",
    "ingredients"
   ]
  },
  {
   "cell_type": "code",
   "execution_count": null,
   "metadata": {},
   "outputs": [],
   "source": [
    "#q3.hint()\n",
    "#q3.solution()"
   ]
  },
  {
   "cell_type": "markdown",
   "metadata": {},
   "source": [
    "## 4.\n",
    "\n",
    "Read the following csv dataset of wine reviews into a DataFrame called `reviews`:\n",
    "\n",
    "![](https://storage.googleapis.com/kaggle-media/learn/images/74RCZtU.png)\n",
    "\n",
    "The filepath to the csv file is `../input/wine-reviews/winemag-data_first150k.csv`. The first few lines look like:\n",
    "\n",
    "```\n",
    ",country,description,designation,points,price,province,region_1,region_2,variety,winery\n",
    "0,US,\"This tremendous 100% varietal wine[...]\",Martha's Vineyard,96,235.0,California,Napa Valley,Napa,Cabernet Sauvignon,Heitz\n",
    "1,Spain,\"Ripe aromas of fig, blackberry and[...]\",Carodorum Selección Especial Reserva,96,110.0,Northern Spain,Toro,,Tinta de Toro,Bodega Carmen Rodríguez\n",
    "```"
   ]
  },
  {
   "cell_type": "code",
   "execution_count": 8,
   "metadata": {
    "execution": {
     "iopub.execute_input": "2023-06-25T05:24:35.468971Z",
     "iopub.status.busy": "2023-06-25T05:24:35.468156Z",
     "iopub.status.idle": "2023-06-25T05:24:36.556401Z",
     "shell.execute_reply": "2023-06-25T05:24:36.555149Z",
     "shell.execute_reply.started": "2023-06-25T05:24:35.468930Z"
    }
   },
   "outputs": [
    {
     "data": {
      "application/javascript": [
       "parent.postMessage({\"jupyterEvent\": \"custom.exercise_interaction\", \"data\": {\"outcomeType\": 1, \"valueTowardsCompletion\": 0.16666666666666666, \"interactionType\": 1, \"questionType\": 1, \"questionId\": \"4_ReadWineCsv\", \"learnToolsVersion\": \"0.3.4\", \"failureMessage\": \"\", \"exceptionClass\": \"\", \"trace\": \"\"}}, \"*\")"
      ],
      "text/plain": [
       "<IPython.core.display.Javascript object>"
      ]
     },
     "metadata": {},
     "output_type": "display_data"
    },
    {
     "data": {
      "text/markdown": [
       "<span style=\"color:#33cc33\">Correct</span>"
      ],
      "text/plain": [
       "Correct"
      ]
     },
     "metadata": {},
     "output_type": "display_data"
    },
    {
     "data": {
      "text/html": [
       "<div>\n",
       "<style scoped>\n",
       "    .dataframe tbody tr th:only-of-type {\n",
       "        vertical-align: middle;\n",
       "    }\n",
       "\n",
       "    .dataframe tbody tr th {\n",
       "        vertical-align: top;\n",
       "    }\n",
       "\n",
       "    .dataframe thead th {\n",
       "        text-align: right;\n",
       "    }\n",
       "</style>\n",
       "<table border=\"1\" class=\"dataframe\">\n",
       "  <thead>\n",
       "    <tr style=\"text-align: right;\">\n",
       "      <th></th>\n",
       "      <th>country</th>\n",
       "      <th>description</th>\n",
       "      <th>designation</th>\n",
       "      <th>points</th>\n",
       "      <th>price</th>\n",
       "      <th>province</th>\n",
       "      <th>region_1</th>\n",
       "      <th>region_2</th>\n",
       "      <th>variety</th>\n",
       "      <th>winery</th>\n",
       "    </tr>\n",
       "  </thead>\n",
       "  <tbody>\n",
       "    <tr>\n",
       "      <th>0</th>\n",
       "      <td>US</td>\n",
       "      <td>This tremendous 100% varietal wine hails from ...</td>\n",
       "      <td>Martha's Vineyard</td>\n",
       "      <td>96</td>\n",
       "      <td>235.0</td>\n",
       "      <td>California</td>\n",
       "      <td>Napa Valley</td>\n",
       "      <td>Napa</td>\n",
       "      <td>Cabernet Sauvignon</td>\n",
       "      <td>Heitz</td>\n",
       "    </tr>\n",
       "    <tr>\n",
       "      <th>1</th>\n",
       "      <td>Spain</td>\n",
       "      <td>Ripe aromas of fig, blackberry and cassis are ...</td>\n",
       "      <td>Carodorum Selección Especial Reserva</td>\n",
       "      <td>96</td>\n",
       "      <td>110.0</td>\n",
       "      <td>Northern Spain</td>\n",
       "      <td>Toro</td>\n",
       "      <td>NaN</td>\n",
       "      <td>Tinta de Toro</td>\n",
       "      <td>Bodega Carmen Rodríguez</td>\n",
       "    </tr>\n",
       "    <tr>\n",
       "      <th>2</th>\n",
       "      <td>US</td>\n",
       "      <td>Mac Watson honors the memory of a wine once ma...</td>\n",
       "      <td>Special Selected Late Harvest</td>\n",
       "      <td>96</td>\n",
       "      <td>90.0</td>\n",
       "      <td>California</td>\n",
       "      <td>Knights Valley</td>\n",
       "      <td>Sonoma</td>\n",
       "      <td>Sauvignon Blanc</td>\n",
       "      <td>Macauley</td>\n",
       "    </tr>\n",
       "    <tr>\n",
       "      <th>3</th>\n",
       "      <td>US</td>\n",
       "      <td>This spent 20 months in 30% new French oak, an...</td>\n",
       "      <td>Reserve</td>\n",
       "      <td>96</td>\n",
       "      <td>65.0</td>\n",
       "      <td>Oregon</td>\n",
       "      <td>Willamette Valley</td>\n",
       "      <td>Willamette Valley</td>\n",
       "      <td>Pinot Noir</td>\n",
       "      <td>Ponzi</td>\n",
       "    </tr>\n",
       "    <tr>\n",
       "      <th>4</th>\n",
       "      <td>France</td>\n",
       "      <td>This is the top wine from La Bégude, named aft...</td>\n",
       "      <td>La Brûlade</td>\n",
       "      <td>95</td>\n",
       "      <td>66.0</td>\n",
       "      <td>Provence</td>\n",
       "      <td>Bandol</td>\n",
       "      <td>NaN</td>\n",
       "      <td>Provence red blend</td>\n",
       "      <td>Domaine de la Bégude</td>\n",
       "    </tr>\n",
       "    <tr>\n",
       "      <th>...</th>\n",
       "      <td>...</td>\n",
       "      <td>...</td>\n",
       "      <td>...</td>\n",
       "      <td>...</td>\n",
       "      <td>...</td>\n",
       "      <td>...</td>\n",
       "      <td>...</td>\n",
       "      <td>...</td>\n",
       "      <td>...</td>\n",
       "      <td>...</td>\n",
       "    </tr>\n",
       "    <tr>\n",
       "      <th>150925</th>\n",
       "      <td>Italy</td>\n",
       "      <td>Many people feel Fiano represents southern Ita...</td>\n",
       "      <td>NaN</td>\n",
       "      <td>91</td>\n",
       "      <td>20.0</td>\n",
       "      <td>Southern Italy</td>\n",
       "      <td>Fiano di Avellino</td>\n",
       "      <td>NaN</td>\n",
       "      <td>White Blend</td>\n",
       "      <td>Feudi di San Gregorio</td>\n",
       "    </tr>\n",
       "    <tr>\n",
       "      <th>150926</th>\n",
       "      <td>France</td>\n",
       "      <td>Offers an intriguing nose with ginger, lime an...</td>\n",
       "      <td>Cuvée Prestige</td>\n",
       "      <td>91</td>\n",
       "      <td>27.0</td>\n",
       "      <td>Champagne</td>\n",
       "      <td>Champagne</td>\n",
       "      <td>NaN</td>\n",
       "      <td>Champagne Blend</td>\n",
       "      <td>H.Germain</td>\n",
       "    </tr>\n",
       "    <tr>\n",
       "      <th>150927</th>\n",
       "      <td>Italy</td>\n",
       "      <td>This classic example comes from a cru vineyard...</td>\n",
       "      <td>Terre di Dora</td>\n",
       "      <td>91</td>\n",
       "      <td>20.0</td>\n",
       "      <td>Southern Italy</td>\n",
       "      <td>Fiano di Avellino</td>\n",
       "      <td>NaN</td>\n",
       "      <td>White Blend</td>\n",
       "      <td>Terredora</td>\n",
       "    </tr>\n",
       "    <tr>\n",
       "      <th>150928</th>\n",
       "      <td>France</td>\n",
       "      <td>A perfect salmon shade, with scents of peaches...</td>\n",
       "      <td>Grand Brut Rosé</td>\n",
       "      <td>90</td>\n",
       "      <td>52.0</td>\n",
       "      <td>Champagne</td>\n",
       "      <td>Champagne</td>\n",
       "      <td>NaN</td>\n",
       "      <td>Champagne Blend</td>\n",
       "      <td>Gosset</td>\n",
       "    </tr>\n",
       "    <tr>\n",
       "      <th>150929</th>\n",
       "      <td>Italy</td>\n",
       "      <td>More Pinot Grigios should taste like this. A r...</td>\n",
       "      <td>NaN</td>\n",
       "      <td>90</td>\n",
       "      <td>15.0</td>\n",
       "      <td>Northeastern Italy</td>\n",
       "      <td>Alto Adige</td>\n",
       "      <td>NaN</td>\n",
       "      <td>Pinot Grigio</td>\n",
       "      <td>Alois Lageder</td>\n",
       "    </tr>\n",
       "  </tbody>\n",
       "</table>\n",
       "<p>150930 rows × 10 columns</p>\n",
       "</div>"
      ],
      "text/plain": [
       "       country                                        description  \\\n",
       "0           US  This tremendous 100% varietal wine hails from ...   \n",
       "1        Spain  Ripe aromas of fig, blackberry and cassis are ...   \n",
       "2           US  Mac Watson honors the memory of a wine once ma...   \n",
       "3           US  This spent 20 months in 30% new French oak, an...   \n",
       "4       France  This is the top wine from La Bégude, named aft...   \n",
       "...        ...                                                ...   \n",
       "150925   Italy  Many people feel Fiano represents southern Ita...   \n",
       "150926  France  Offers an intriguing nose with ginger, lime an...   \n",
       "150927   Italy  This classic example comes from a cru vineyard...   \n",
       "150928  France  A perfect salmon shade, with scents of peaches...   \n",
       "150929   Italy  More Pinot Grigios should taste like this. A r...   \n",
       "\n",
       "                                 designation  points  price  \\\n",
       "0                          Martha's Vineyard      96  235.0   \n",
       "1       Carodorum Selección Especial Reserva      96  110.0   \n",
       "2              Special Selected Late Harvest      96   90.0   \n",
       "3                                    Reserve      96   65.0   \n",
       "4                                 La Brûlade      95   66.0   \n",
       "...                                      ...     ...    ...   \n",
       "150925                                   NaN      91   20.0   \n",
       "150926                        Cuvée Prestige      91   27.0   \n",
       "150927                         Terre di Dora      91   20.0   \n",
       "150928                       Grand Brut Rosé      90   52.0   \n",
       "150929                                   NaN      90   15.0   \n",
       "\n",
       "                  province           region_1           region_2  \\\n",
       "0               California        Napa Valley               Napa   \n",
       "1           Northern Spain               Toro                NaN   \n",
       "2               California     Knights Valley             Sonoma   \n",
       "3                   Oregon  Willamette Valley  Willamette Valley   \n",
       "4                 Provence             Bandol                NaN   \n",
       "...                    ...                ...                ...   \n",
       "150925      Southern Italy  Fiano di Avellino                NaN   \n",
       "150926           Champagne          Champagne                NaN   \n",
       "150927      Southern Italy  Fiano di Avellino                NaN   \n",
       "150928           Champagne          Champagne                NaN   \n",
       "150929  Northeastern Italy         Alto Adige                NaN   \n",
       "\n",
       "                   variety                   winery  \n",
       "0       Cabernet Sauvignon                    Heitz  \n",
       "1            Tinta de Toro  Bodega Carmen Rodríguez  \n",
       "2          Sauvignon Blanc                 Macauley  \n",
       "3               Pinot Noir                    Ponzi  \n",
       "4       Provence red blend     Domaine de la Bégude  \n",
       "...                    ...                      ...  \n",
       "150925         White Blend    Feudi di San Gregorio  \n",
       "150926     Champagne Blend                H.Germain  \n",
       "150927         White Blend                Terredora  \n",
       "150928     Champagne Blend                   Gosset  \n",
       "150929        Pinot Grigio            Alois Lageder  \n",
       "\n",
       "[150930 rows x 10 columns]"
      ]
     },
     "execution_count": 8,
     "metadata": {},
     "output_type": "execute_result"
    }
   ],
   "source": [
    "reviews = pd.read_csv('../input/wine-reviews/winemag-data_first150k.csv',index_col=0)\n",
    "\n",
    "# Check your answer\n",
    "q4.check()\n",
    "reviews"
   ]
  },
  {
   "cell_type": "code",
   "execution_count": null,
   "metadata": {},
   "outputs": [],
   "source": [
    "#q4.hint()\n",
    "#q4.solution()"
   ]
  },
  {
   "cell_type": "markdown",
   "metadata": {},
   "source": [
    "## 5.\n",
    "\n",
    "Run the cell below to create and display a DataFrame called `animals`:"
   ]
  },
  {
   "cell_type": "code",
   "execution_count": 9,
   "metadata": {
    "execution": {
     "iopub.execute_input": "2023-06-25T05:25:22.516325Z",
     "iopub.status.busy": "2023-06-25T05:25:22.515900Z",
     "iopub.status.idle": "2023-06-25T05:25:22.528183Z",
     "shell.execute_reply": "2023-06-25T05:25:22.527091Z",
     "shell.execute_reply.started": "2023-06-25T05:25:22.516278Z"
    }
   },
   "outputs": [
    {
     "data": {
      "text/html": [
       "<div>\n",
       "<style scoped>\n",
       "    .dataframe tbody tr th:only-of-type {\n",
       "        vertical-align: middle;\n",
       "    }\n",
       "\n",
       "    .dataframe tbody tr th {\n",
       "        vertical-align: top;\n",
       "    }\n",
       "\n",
       "    .dataframe thead th {\n",
       "        text-align: right;\n",
       "    }\n",
       "</style>\n",
       "<table border=\"1\" class=\"dataframe\">\n",
       "  <thead>\n",
       "    <tr style=\"text-align: right;\">\n",
       "      <th></th>\n",
       "      <th>Cows</th>\n",
       "      <th>Goats</th>\n",
       "    </tr>\n",
       "  </thead>\n",
       "  <tbody>\n",
       "    <tr>\n",
       "      <th>Year 1</th>\n",
       "      <td>12</td>\n",
       "      <td>22</td>\n",
       "    </tr>\n",
       "    <tr>\n",
       "      <th>Year 2</th>\n",
       "      <td>20</td>\n",
       "      <td>19</td>\n",
       "    </tr>\n",
       "  </tbody>\n",
       "</table>\n",
       "</div>"
      ],
      "text/plain": [
       "        Cows  Goats\n",
       "Year 1    12     22\n",
       "Year 2    20     19"
      ]
     },
     "execution_count": 9,
     "metadata": {},
     "output_type": "execute_result"
    }
   ],
   "source": [
    "animals = pd.DataFrame({'Cows': [12, 20], 'Goats': [22, 19]}, index=['Year 1', 'Year 2'])\n",
    "animals"
   ]
  },
  {
   "cell_type": "markdown",
   "metadata": {},
   "source": [
    "In the cell below, write code to save this DataFrame to disk as a csv file with the name `cows_and_goats.csv`."
   ]
  },
  {
   "cell_type": "code",
   "execution_count": 11,
   "metadata": {
    "execution": {
     "iopub.execute_input": "2023-06-25T05:26:25.587283Z",
     "iopub.status.busy": "2023-06-25T05:26:25.586933Z",
     "iopub.status.idle": "2023-06-25T05:26:25.602844Z",
     "shell.execute_reply": "2023-06-25T05:26:25.601405Z",
     "shell.execute_reply.started": "2023-06-25T05:26:25.587256Z"
    }
   },
   "outputs": [
    {
     "data": {
      "application/javascript": [
       "parent.postMessage({\"jupyterEvent\": \"custom.exercise_interaction\", \"data\": {\"outcomeType\": 1, \"valueTowardsCompletion\": 0.16666666666666666, \"interactionType\": 1, \"questionType\": 2, \"questionId\": \"5_SaveAnimalsCsv\", \"learnToolsVersion\": \"0.3.4\", \"failureMessage\": \"\", \"exceptionClass\": \"\", \"trace\": \"\"}}, \"*\")"
      ],
      "text/plain": [
       "<IPython.core.display.Javascript object>"
      ]
     },
     "metadata": {},
     "output_type": "display_data"
    },
    {
     "data": {
      "text/markdown": [
       "<span style=\"color:#33cc33\">Correct</span>"
      ],
      "text/plain": [
       "Correct"
      ]
     },
     "metadata": {},
     "output_type": "display_data"
    }
   ],
   "source": [
    "# Your code goes here\n",
    "animals.to_csv('cows_and_goats.csv')\n",
    "# Check your answer\n",
    "q5.check()"
   ]
  },
  {
   "cell_type": "code",
   "execution_count": null,
   "metadata": {},
   "outputs": [],
   "source": [
    "#q5.hint()\n",
    "#q5.solution()"
   ]
  },
  {
   "cell_type": "markdown",
   "metadata": {},
   "source": [
    "# Keep going\n",
    "\n",
    "Move on to learn about **[indexing, selecting and assigning](https://www.kaggle.com/residentmario/indexing-selecting-assigning)**."
   ]
  },
  {
   "cell_type": "markdown",
   "metadata": {},
   "source": [
    "---\n",
    "\n",
    "\n",
    "\n",
    "\n",
    "*Have questions or comments? Visit the [course discussion forum](https://www.kaggle.com/learn/pandas/discussion) to chat with other learners.*"
   ]
  }
 ],
 "metadata": {
  "kernelspec": {
   "display_name": "Python 3 (ipykernel)",
   "language": "python",
   "name": "python3"
  },
  "language_info": {
   "codemirror_mode": {
    "name": "ipython",
    "version": 3
   },
   "file_extension": ".py",
   "mimetype": "text/x-python",
   "name": "python",
   "nbconvert_exporter": "python",
   "pygments_lexer": "ipython3",
   "version": "3.11.4"
  }
 },
 "nbformat": 4,
 "nbformat_minor": 4
}
